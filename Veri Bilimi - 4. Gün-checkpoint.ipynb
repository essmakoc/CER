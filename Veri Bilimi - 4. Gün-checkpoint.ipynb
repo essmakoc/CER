{
 "cells": [
  {
   "cell_type": "code",
   "execution_count": 22,
   "id": "79aed27d",
   "metadata": {},
   "outputs": [],
   "source": [
    "#kütüphane ekleme\n",
    "import pandas as pd\n",
    "import numpy as np\n",
    "import matplotlib.pyplot as plt\n",
    "from collections import Counter\n",
    "\n",
    "import warnings\n",
    "warnings.filterwarnings(\"ignore\")"
   ]
  },
  {
   "cell_type": "code",
   "execution_count": 2,
   "id": "24b8c5cc",
   "metadata": {},
   "outputs": [],
   "source": [
    "#veri içe aktarma\n",
    "veri = pd.read_csv(\"athlete_events.csv\")"
   ]
  },
  {
   "cell_type": "code",
   "execution_count": 3,
   "id": "a2f7a4cf",
   "metadata": {},
   "outputs": [
    {
     "data": {
      "text/html": [
       "<div>\n",
       "<style scoped>\n",
       "    .dataframe tbody tr th:only-of-type {\n",
       "        vertical-align: middle;\n",
       "    }\n",
       "\n",
       "    .dataframe tbody tr th {\n",
       "        vertical-align: top;\n",
       "    }\n",
       "\n",
       "    .dataframe thead th {\n",
       "        text-align: right;\n",
       "    }\n",
       "</style>\n",
       "<table border=\"1\" class=\"dataframe\">\n",
       "  <thead>\n",
       "    <tr style=\"text-align: right;\">\n",
       "      <th></th>\n",
       "      <th>ID</th>\n",
       "      <th>Name</th>\n",
       "      <th>Sex</th>\n",
       "      <th>Age</th>\n",
       "      <th>Height</th>\n",
       "      <th>Weight</th>\n",
       "      <th>Team</th>\n",
       "      <th>NOC</th>\n",
       "      <th>Games</th>\n",
       "      <th>Year</th>\n",
       "      <th>Season</th>\n",
       "      <th>City</th>\n",
       "      <th>Sport</th>\n",
       "      <th>Event</th>\n",
       "      <th>Medal</th>\n",
       "    </tr>\n",
       "  </thead>\n",
       "  <tbody>\n",
       "    <tr>\n",
       "      <th>0</th>\n",
       "      <td>1</td>\n",
       "      <td>A Dijiang</td>\n",
       "      <td>M</td>\n",
       "      <td>24.0</td>\n",
       "      <td>180.0</td>\n",
       "      <td>80.0</td>\n",
       "      <td>China</td>\n",
       "      <td>CHN</td>\n",
       "      <td>1992 Summer</td>\n",
       "      <td>1992</td>\n",
       "      <td>Summer</td>\n",
       "      <td>Barcelona</td>\n",
       "      <td>Basketball</td>\n",
       "      <td>Basketball Men's Basketball</td>\n",
       "      <td>NaN</td>\n",
       "    </tr>\n",
       "    <tr>\n",
       "      <th>1</th>\n",
       "      <td>2</td>\n",
       "      <td>A Lamusi</td>\n",
       "      <td>M</td>\n",
       "      <td>23.0</td>\n",
       "      <td>170.0</td>\n",
       "      <td>60.0</td>\n",
       "      <td>China</td>\n",
       "      <td>CHN</td>\n",
       "      <td>2012 Summer</td>\n",
       "      <td>2012</td>\n",
       "      <td>Summer</td>\n",
       "      <td>London</td>\n",
       "      <td>Judo</td>\n",
       "      <td>Judo Men's Extra-Lightweight</td>\n",
       "      <td>NaN</td>\n",
       "    </tr>\n",
       "    <tr>\n",
       "      <th>2</th>\n",
       "      <td>3</td>\n",
       "      <td>Gunnar Nielsen Aaby</td>\n",
       "      <td>M</td>\n",
       "      <td>24.0</td>\n",
       "      <td>NaN</td>\n",
       "      <td>NaN</td>\n",
       "      <td>Denmark</td>\n",
       "      <td>DEN</td>\n",
       "      <td>1920 Summer</td>\n",
       "      <td>1920</td>\n",
       "      <td>Summer</td>\n",
       "      <td>Antwerpen</td>\n",
       "      <td>Football</td>\n",
       "      <td>Football Men's Football</td>\n",
       "      <td>NaN</td>\n",
       "    </tr>\n",
       "    <tr>\n",
       "      <th>3</th>\n",
       "      <td>4</td>\n",
       "      <td>Edgar Lindenau Aabye</td>\n",
       "      <td>M</td>\n",
       "      <td>34.0</td>\n",
       "      <td>NaN</td>\n",
       "      <td>NaN</td>\n",
       "      <td>Denmark/Sweden</td>\n",
       "      <td>DEN</td>\n",
       "      <td>1900 Summer</td>\n",
       "      <td>1900</td>\n",
       "      <td>Summer</td>\n",
       "      <td>Paris</td>\n",
       "      <td>Tug-Of-War</td>\n",
       "      <td>Tug-Of-War Men's Tug-Of-War</td>\n",
       "      <td>Gold</td>\n",
       "    </tr>\n",
       "    <tr>\n",
       "      <th>4</th>\n",
       "      <td>5</td>\n",
       "      <td>Christine Jacoba Aaftink</td>\n",
       "      <td>F</td>\n",
       "      <td>21.0</td>\n",
       "      <td>185.0</td>\n",
       "      <td>82.0</td>\n",
       "      <td>Netherlands</td>\n",
       "      <td>NED</td>\n",
       "      <td>1988 Winter</td>\n",
       "      <td>1988</td>\n",
       "      <td>Winter</td>\n",
       "      <td>Calgary</td>\n",
       "      <td>Speed Skating</td>\n",
       "      <td>Speed Skating Women's 500 metres</td>\n",
       "      <td>NaN</td>\n",
       "    </tr>\n",
       "  </tbody>\n",
       "</table>\n",
       "</div>"
      ],
      "text/plain": [
       "   ID                      Name Sex   Age  Height  Weight            Team  \\\n",
       "0   1                 A Dijiang   M  24.0   180.0    80.0           China   \n",
       "1   2                  A Lamusi   M  23.0   170.0    60.0           China   \n",
       "2   3       Gunnar Nielsen Aaby   M  24.0     NaN     NaN         Denmark   \n",
       "3   4      Edgar Lindenau Aabye   M  34.0     NaN     NaN  Denmark/Sweden   \n",
       "4   5  Christine Jacoba Aaftink   F  21.0   185.0    82.0     Netherlands   \n",
       "\n",
       "   NOC        Games  Year  Season       City          Sport  \\\n",
       "0  CHN  1992 Summer  1992  Summer  Barcelona     Basketball   \n",
       "1  CHN  2012 Summer  2012  Summer     London           Judo   \n",
       "2  DEN  1920 Summer  1920  Summer  Antwerpen       Football   \n",
       "3  DEN  1900 Summer  1900  Summer      Paris     Tug-Of-War   \n",
       "4  NED  1988 Winter  1988  Winter    Calgary  Speed Skating   \n",
       "\n",
       "                              Event Medal  \n",
       "0       Basketball Men's Basketball   NaN  \n",
       "1      Judo Men's Extra-Lightweight   NaN  \n",
       "2           Football Men's Football   NaN  \n",
       "3       Tug-Of-War Men's Tug-Of-War  Gold  \n",
       "4  Speed Skating Women's 500 metres   NaN  "
      ]
     },
     "execution_count": 3,
     "metadata": {},
     "output_type": "execute_result"
    }
   ],
   "source": [
    "veri.head()"
   ]
  },
  {
   "cell_type": "code",
   "execution_count": 10,
   "id": "57ea3d71",
   "metadata": {},
   "outputs": [
    {
     "name": "stdout",
     "output_type": "stream",
     "text": [
      "<class 'pandas.core.frame.DataFrame'>\n",
      "RangeIndex: 271116 entries, 0 to 271115\n",
      "Data columns (total 15 columns):\n",
      " #   Column  Non-Null Count   Dtype  \n",
      "---  ------  --------------   -----  \n",
      " 0   ID      271116 non-null  int64  \n",
      " 1   Name    271116 non-null  object \n",
      " 2   Sex     271116 non-null  object \n",
      " 3   Age     261642 non-null  float64\n",
      " 4   Height  210945 non-null  float64\n",
      " 5   Weight  208241 non-null  float64\n",
      " 6   Team    271116 non-null  object \n",
      " 7   NOC     271116 non-null  object \n",
      " 8   Games   271116 non-null  object \n",
      " 9   Year    271116 non-null  int64  \n",
      " 10  Season  271116 non-null  object \n",
      " 11  City    271116 non-null  object \n",
      " 12  Sport   271116 non-null  object \n",
      " 13  Event   271116 non-null  object \n",
      " 14  Medal   39783 non-null   object \n",
      "dtypes: float64(3), int64(2), object(10)\n",
      "memory usage: 31.0+ MB\n"
     ]
    }
   ],
   "source": [
    "# veri hakkında bilgi\n",
    "veri.info()"
   ]
  },
  {
   "cell_type": "markdown",
   "id": "07b31e62",
   "metadata": {},
   "source": [
    "# Veri temizleme"
   ]
  },
  {
   "cell_type": "code",
   "execution_count": 13,
   "id": "afb8e75c",
   "metadata": {},
   "outputs": [
    {
     "data": {
      "text/plain": [
       "Index(['ID', 'Name', 'Sex', 'Age', 'Height', 'Weight', 'Team', 'NOC', 'Games',\n",
       "       'Year', 'Season', 'City', 'Sport', 'Event', 'Medal'],\n",
       "      dtype='object')"
      ]
     },
     "execution_count": 13,
     "metadata": {},
     "output_type": "execute_result"
    }
   ],
   "source": [
    "veri.columns"
   ]
  },
  {
   "cell_type": "code",
   "execution_count": 17,
   "id": "b87dcaaf",
   "metadata": {},
   "outputs": [],
   "source": [
    "#sütun ismi düzenleme\n",
    "\n",
    "veri.rename(columns = {'ID'    : \"id\",\n",
    "                       'Name'  : \"isim\",\n",
    "                       'Sex'   : \"cinsiyet\",\n",
    "                       'Age'   : \"yas\",\n",
    "                       'Height': \"boy\", \n",
    "                       'Weight': \"kilo\",\n",
    "                       'Team'  : \"takım\", \n",
    "                       'NOC'   : \"uok\", \n",
    "                       'Games' : \"oyunlar\",\n",
    "                       'Year'  : \"yıl\", \n",
    "                       'Season': \"sezon\", \n",
    "                       'City'  : \"sehir\",\n",
    "                       'Sport' : \"spor\",\n",
    "                       'Event' : \"etkinlik\", \n",
    "                       'Medal' : \"madalya\"}, inplace = True)"
   ]
  },
  {
   "cell_type": "code",
   "execution_count": 16,
   "id": "bc4d4d71",
   "metadata": {},
   "outputs": [
    {
     "data": {
      "text/html": [
       "<div>\n",
       "<style scoped>\n",
       "    .dataframe tbody tr th:only-of-type {\n",
       "        vertical-align: middle;\n",
       "    }\n",
       "\n",
       "    .dataframe tbody tr th {\n",
       "        vertical-align: top;\n",
       "    }\n",
       "\n",
       "    .dataframe thead th {\n",
       "        text-align: right;\n",
       "    }\n",
       "</style>\n",
       "<table border=\"1\" class=\"dataframe\">\n",
       "  <thead>\n",
       "    <tr style=\"text-align: right;\">\n",
       "      <th></th>\n",
       "      <th>id</th>\n",
       "      <th>isim</th>\n",
       "      <th>cinsiyet</th>\n",
       "      <th>yas</th>\n",
       "      <th>boy</th>\n",
       "      <th>kilo</th>\n",
       "      <th>takım</th>\n",
       "      <th>uok</th>\n",
       "      <th>oyunlar</th>\n",
       "      <th>yıl</th>\n",
       "      <th>sezon</th>\n",
       "      <th>sehir</th>\n",
       "      <th>spor</th>\n",
       "      <th>etkinlik</th>\n",
       "      <th>madalya</th>\n",
       "    </tr>\n",
       "  </thead>\n",
       "  <tbody>\n",
       "    <tr>\n",
       "      <th>0</th>\n",
       "      <td>1</td>\n",
       "      <td>A Dijiang</td>\n",
       "      <td>Gender</td>\n",
       "      <td>24.0</td>\n",
       "      <td>180.0</td>\n",
       "      <td>80.0</td>\n",
       "      <td>China</td>\n",
       "      <td>CHN</td>\n",
       "      <td>1992 Summer</td>\n",
       "      <td>1992</td>\n",
       "      <td>Summer</td>\n",
       "      <td>Barcelona</td>\n",
       "      <td>Basketball</td>\n",
       "      <td>Basketball Men's Basketball</td>\n",
       "      <td>NaN</td>\n",
       "    </tr>\n",
       "    <tr>\n",
       "      <th>1</th>\n",
       "      <td>2</td>\n",
       "      <td>A Lamusi</td>\n",
       "      <td>Gender</td>\n",
       "      <td>23.0</td>\n",
       "      <td>170.0</td>\n",
       "      <td>60.0</td>\n",
       "      <td>China</td>\n",
       "      <td>CHN</td>\n",
       "      <td>2012 Summer</td>\n",
       "      <td>2012</td>\n",
       "      <td>Summer</td>\n",
       "      <td>London</td>\n",
       "      <td>Judo</td>\n",
       "      <td>Judo Men's Extra-Lightweight</td>\n",
       "      <td>NaN</td>\n",
       "    </tr>\n",
       "    <tr>\n",
       "      <th>2</th>\n",
       "      <td>3</td>\n",
       "      <td>Gunnar Nielsen Aaby</td>\n",
       "      <td>Gender</td>\n",
       "      <td>24.0</td>\n",
       "      <td>NaN</td>\n",
       "      <td>NaN</td>\n",
       "      <td>Denmark</td>\n",
       "      <td>DEN</td>\n",
       "      <td>1920 Summer</td>\n",
       "      <td>1920</td>\n",
       "      <td>Summer</td>\n",
       "      <td>Antwerpen</td>\n",
       "      <td>Football</td>\n",
       "      <td>Football Men's Football</td>\n",
       "      <td>NaN</td>\n",
       "    </tr>\n",
       "    <tr>\n",
       "      <th>3</th>\n",
       "      <td>4</td>\n",
       "      <td>Edgar Lindenau Aabye</td>\n",
       "      <td>Gender</td>\n",
       "      <td>34.0</td>\n",
       "      <td>NaN</td>\n",
       "      <td>NaN</td>\n",
       "      <td>Denmark/Sweden</td>\n",
       "      <td>DEN</td>\n",
       "      <td>1900 Summer</td>\n",
       "      <td>1900</td>\n",
       "      <td>Summer</td>\n",
       "      <td>Paris</td>\n",
       "      <td>Tug-Of-War</td>\n",
       "      <td>Tug-Of-War Men's Tug-Of-War</td>\n",
       "      <td>Gold</td>\n",
       "    </tr>\n",
       "    <tr>\n",
       "      <th>4</th>\n",
       "      <td>5</td>\n",
       "      <td>Christine Jacoba Aaftink</td>\n",
       "      <td>Gender</td>\n",
       "      <td>21.0</td>\n",
       "      <td>185.0</td>\n",
       "      <td>82.0</td>\n",
       "      <td>Netherlands</td>\n",
       "      <td>NED</td>\n",
       "      <td>1988 Winter</td>\n",
       "      <td>1988</td>\n",
       "      <td>Winter</td>\n",
       "      <td>Calgary</td>\n",
       "      <td>Speed Skating</td>\n",
       "      <td>Speed Skating Women's 500 metres</td>\n",
       "      <td>NaN</td>\n",
       "    </tr>\n",
       "  </tbody>\n",
       "</table>\n",
       "</div>"
      ],
      "text/plain": [
       "   id                      isim cinsiyet   yas    boy  kilo           takım  \\\n",
       "0   1                 A Dijiang   Gender  24.0  180.0  80.0           China   \n",
       "1   2                  A Lamusi   Gender  23.0  170.0  60.0           China   \n",
       "2   3       Gunnar Nielsen Aaby   Gender  24.0    NaN   NaN         Denmark   \n",
       "3   4      Edgar Lindenau Aabye   Gender  34.0    NaN   NaN  Denmark/Sweden   \n",
       "4   5  Christine Jacoba Aaftink   Gender  21.0  185.0  82.0     Netherlands   \n",
       "\n",
       "   uok      oyunlar   yıl   sezon      sehir           spor  \\\n",
       "0  CHN  1992 Summer  1992  Summer  Barcelona     Basketball   \n",
       "1  CHN  2012 Summer  2012  Summer     London           Judo   \n",
       "2  DEN  1920 Summer  1920  Summer  Antwerpen       Football   \n",
       "3  DEN  1900 Summer  1900  Summer      Paris     Tug-Of-War   \n",
       "4  NED  1988 Winter  1988  Winter    Calgary  Speed Skating   \n",
       "\n",
       "                           etkinlik madalya  \n",
       "0       Basketball Men's Basketball     NaN  \n",
       "1      Judo Men's Extra-Lightweight     NaN  \n",
       "2           Football Men's Football     NaN  \n",
       "3       Tug-Of-War Men's Tug-Of-War    Gold  \n",
       "4  Speed Skating Women's 500 metres     NaN  "
      ]
     },
     "execution_count": 16,
     "metadata": {},
     "output_type": "execute_result"
    }
   ],
   "source": [
    "veri.head()"
   ]
  },
  {
   "cell_type": "markdown",
   "id": "dcc7b9f5",
   "metadata": {},
   "source": [
    "## Yararsız verileri çıkarma"
   ]
  },
  {
   "cell_type": "code",
   "execution_count": 18,
   "id": "87badbe0",
   "metadata": {},
   "outputs": [
    {
     "data": {
      "text/html": [
       "<div>\n",
       "<style scoped>\n",
       "    .dataframe tbody tr th:only-of-type {\n",
       "        vertical-align: middle;\n",
       "    }\n",
       "\n",
       "    .dataframe tbody tr th {\n",
       "        vertical-align: top;\n",
       "    }\n",
       "\n",
       "    .dataframe thead th {\n",
       "        text-align: right;\n",
       "    }\n",
       "</style>\n",
       "<table border=\"1\" class=\"dataframe\">\n",
       "  <thead>\n",
       "    <tr style=\"text-align: right;\">\n",
       "      <th></th>\n",
       "      <th>isim</th>\n",
       "      <th>cinsiyet</th>\n",
       "      <th>yas</th>\n",
       "      <th>boy</th>\n",
       "      <th>kilo</th>\n",
       "      <th>takım</th>\n",
       "      <th>uok</th>\n",
       "      <th>yıl</th>\n",
       "      <th>sezon</th>\n",
       "      <th>sehir</th>\n",
       "      <th>spor</th>\n",
       "      <th>etkinlik</th>\n",
       "      <th>madalya</th>\n",
       "    </tr>\n",
       "  </thead>\n",
       "  <tbody>\n",
       "    <tr>\n",
       "      <th>0</th>\n",
       "      <td>A Dijiang</td>\n",
       "      <td>Gender</td>\n",
       "      <td>24.0</td>\n",
       "      <td>180.0</td>\n",
       "      <td>80.0</td>\n",
       "      <td>China</td>\n",
       "      <td>CHN</td>\n",
       "      <td>1992</td>\n",
       "      <td>Summer</td>\n",
       "      <td>Barcelona</td>\n",
       "      <td>Basketball</td>\n",
       "      <td>Basketball Men's Basketball</td>\n",
       "      <td>NaN</td>\n",
       "    </tr>\n",
       "    <tr>\n",
       "      <th>1</th>\n",
       "      <td>A Lamusi</td>\n",
       "      <td>Gender</td>\n",
       "      <td>23.0</td>\n",
       "      <td>170.0</td>\n",
       "      <td>60.0</td>\n",
       "      <td>China</td>\n",
       "      <td>CHN</td>\n",
       "      <td>2012</td>\n",
       "      <td>Summer</td>\n",
       "      <td>London</td>\n",
       "      <td>Judo</td>\n",
       "      <td>Judo Men's Extra-Lightweight</td>\n",
       "      <td>NaN</td>\n",
       "    </tr>\n",
       "  </tbody>\n",
       "</table>\n",
       "</div>"
      ],
      "text/plain": [
       "        isim cinsiyet   yas    boy  kilo  takım  uok   yıl   sezon      sehir  \\\n",
       "0  A Dijiang   Gender  24.0  180.0  80.0  China  CHN  1992  Summer  Barcelona   \n",
       "1   A Lamusi   Gender  23.0  170.0  60.0  China  CHN  2012  Summer     London   \n",
       "\n",
       "         spor                      etkinlik madalya  \n",
       "0  Basketball   Basketball Men's Basketball     NaN  \n",
       "1        Judo  Judo Men's Extra-Lightweight     NaN  "
      ]
     },
     "execution_count": 18,
     "metadata": {},
     "output_type": "execute_result"
    }
   ],
   "source": [
    "#drop fonk. (id ve oyun ) sutünü cıkartma\n",
    "veri = veri.drop([\"id\", \"oyunlar\"], axis = 1 ) #axis = 1 sutün anlamında\n",
    "veri.head(2)"
   ]
  },
  {
   "cell_type": "markdown",
   "id": "8fbd93be",
   "metadata": {},
   "source": [
    "## Kayıp veri Sorunu"
   ]
  },
  {
   "cell_type": "code",
   "execution_count": 21,
   "id": "2a392f50",
   "metadata": {},
   "outputs": [
    {
     "data": {
      "text/html": [
       "<div>\n",
       "<style scoped>\n",
       "    .dataframe tbody tr th:only-of-type {\n",
       "        vertical-align: middle;\n",
       "    }\n",
       "\n",
       "    .dataframe tbody tr th {\n",
       "        vertical-align: top;\n",
       "    }\n",
       "\n",
       "    .dataframe thead th {\n",
       "        text-align: right;\n",
       "    }\n",
       "</style>\n",
       "<table border=\"1\" class=\"dataframe\">\n",
       "  <thead>\n",
       "    <tr style=\"text-align: right;\">\n",
       "      <th></th>\n",
       "      <th>isim</th>\n",
       "      <th>cinsiyet</th>\n",
       "      <th>yas</th>\n",
       "      <th>boy</th>\n",
       "      <th>kilo</th>\n",
       "      <th>takım</th>\n",
       "      <th>uok</th>\n",
       "      <th>yıl</th>\n",
       "      <th>sezon</th>\n",
       "      <th>sehir</th>\n",
       "      <th>spor</th>\n",
       "      <th>etkinlik</th>\n",
       "      <th>madalya</th>\n",
       "    </tr>\n",
       "  </thead>\n",
       "  <tbody>\n",
       "    <tr>\n",
       "      <th>0</th>\n",
       "      <td>A Dijiang</td>\n",
       "      <td>Gender</td>\n",
       "      <td>24.0</td>\n",
       "      <td>180.0</td>\n",
       "      <td>80.0</td>\n",
       "      <td>China</td>\n",
       "      <td>CHN</td>\n",
       "      <td>1992</td>\n",
       "      <td>Summer</td>\n",
       "      <td>Barcelona</td>\n",
       "      <td>Basketball</td>\n",
       "      <td>Basketball Men's Basketball</td>\n",
       "      <td>NaN</td>\n",
       "    </tr>\n",
       "    <tr>\n",
       "      <th>1</th>\n",
       "      <td>A Lamusi</td>\n",
       "      <td>Gender</td>\n",
       "      <td>23.0</td>\n",
       "      <td>170.0</td>\n",
       "      <td>60.0</td>\n",
       "      <td>China</td>\n",
       "      <td>CHN</td>\n",
       "      <td>2012</td>\n",
       "      <td>Summer</td>\n",
       "      <td>London</td>\n",
       "      <td>Judo</td>\n",
       "      <td>Judo Men's Extra-Lightweight</td>\n",
       "      <td>NaN</td>\n",
       "    </tr>\n",
       "  </tbody>\n",
       "</table>\n",
       "</div>"
      ],
      "text/plain": [
       "        isim cinsiyet   yas    boy  kilo  takım  uok   yıl   sezon      sehir  \\\n",
       "0  A Dijiang   Gender  24.0  180.0  80.0  China  CHN  1992  Summer  Barcelona   \n",
       "1   A Lamusi   Gender  23.0  170.0  60.0  China  CHN  2012  Summer     London   \n",
       "\n",
       "         spor                      etkinlik madalya  \n",
       "0  Basketball   Basketball Men's Basketball     NaN  \n",
       "1        Judo  Judo Men's Extra-Lightweight     NaN  "
      ]
     },
     "execution_count": 21,
     "metadata": {},
     "output_type": "execute_result"
    }
   ],
   "source": [
    "veri.head(2)"
   ]
  },
  {
   "cell_type": "markdown",
   "id": "c0f86fb1",
   "metadata": {},
   "source": [
    "## Boy ve Kilo Sütununda Veri Doldurma\n",
    " -Boy ve ile sutununda bulunan kayıp veriyi etkinlik ortalamasına göre doldurulacak"
   ]
  },
  {
   "cell_type": "code",
   "execution_count": 24,
   "id": "36775603",
   "metadata": {},
   "outputs": [
    {
     "name": "stdout",
     "output_type": "stream",
     "text": [
      "Eşsiz etkinlik sayısı: 765\n"
     ]
    },
    {
     "data": {
      "text/plain": [
       "array([\"Basketball Men's Basketball\", \"Judo Men's Extra-Lightweight\",\n",
       "       \"Football Men's Football\", \"Tug-Of-War Men's Tug-Of-War\",\n",
       "       \"Speed Skating Women's 500 metres\",\n",
       "       \"Speed Skating Women's 1,000 metres\",\n",
       "       \"Cross Country Skiing Men's 10 kilometres\",\n",
       "       \"Cross Country Skiing Men's 50 kilometres\",\n",
       "       \"Cross Country Skiing Men's 10/15 kilometres Pursuit\",\n",
       "       \"Cross Country Skiing Men's 4 x 10 kilometres Relay\"], dtype=object)"
      ]
     },
     "execution_count": 24,
     "metadata": {},
     "output_type": "execute_result"
    }
   ],
   "source": [
    "essiz_etkinlik = pd.unique(veri.etkinlik)\n",
    "print(\"Eşsiz etkinlik sayısı: {}\" .format(len(essiz_etkinlik)))\n",
    "essiz_etkinlik[:10]\n"
   ]
  },
  {
   "cell_type": "code",
   "execution_count": 32,
   "id": "7e631117",
   "metadata": {},
   "outputs": [
    {
     "name": "stdout",
     "output_type": "stream",
     "text": [
      "<class 'pandas.core.frame.DataFrame'>\n",
      "RangeIndex: 271116 entries, 0 to 271115\n",
      "Data columns (total 13 columns):\n",
      " #   Column    Non-Null Count   Dtype  \n",
      "---  ------    --------------   -----  \n",
      " 0   isim      271116 non-null  object \n",
      " 1   cinsiyet  271116 non-null  object \n",
      " 2   yas       261642 non-null  float64\n",
      " 3   boy       271116 non-null  float64\n",
      " 4   kilo      271116 non-null  float64\n",
      " 5   takım     271116 non-null  object \n",
      " 6   uok       271116 non-null  object \n",
      " 7   yıl       271116 non-null  int64  \n",
      " 8   sezon     271116 non-null  object \n",
      " 9   sehir     271116 non-null  object \n",
      " 10  spor      271116 non-null  object \n",
      " 11  etkinlik  271116 non-null  object \n",
      " 12  madalya   39783 non-null   object \n",
      "dtypes: float64(3), int64(1), object(9)\n",
      "memory usage: 26.9+ MB\n"
     ]
    }
   ],
   "source": [
    "#her bir etkinligi iteratif olarak dolaş \n",
    "#etkinlik özelinde boy ve kilo ortalamalarını hesapla\n",
    "#etkinlik özelinde kayıp boy ve kilo degerlerini etkinlik ortalamalarına eşitle\n",
    "\n",
    "veri_gecici = veri.copy()\n",
    "boy_kilo_liste = [\"boy\", \"kilo\"]\n",
    "\n",
    "for e in essiz_etkinlik:\n",
    "    \n",
    "    #etkinlik filtresi olusturalım\n",
    "    etkinlik_filtre = veri_gecici.etkinlik == e\n",
    "    #veriyi etkinliğe göre filtreleyelim\n",
    "    veri_filtreli = veri_gecici[etkinlik_filtre]\n",
    "    \n",
    "    #boy ve kilo için etkinlik özelinde ortalama hesaplama\n",
    "    for s in boy_kilo_liste:\n",
    "        ortalama = np.round(np.mean(veri_filtreli[s]), 2)\n",
    "        if ~np.isnan(ortalama): #eğer etkinlik özelinde ortalama varsa\n",
    "            veri_filtreli[s] = veri_filtreli[s].fillna(ortalama)\n",
    "            \n",
    "        else: #eğer etkinlik özelinde ortalama yoksa\n",
    "            tüm_veri_ortalamasi = np.round(np.mean(veri[s]), 2)\n",
    "            veri_filtreli[s] = veri_filtreli[s].fillna(tüm_veri_ortalamasi)\n",
    "        \n",
    "     #etkinlik özelinde kayıp degerleri doldurulmuş olan veriyi, veri_gecici'ye eşitleyelim \n",
    "    veri_gecici[etkinlik_filtre]  = veri_filtreli\n",
    "\n",
    "#kayıp degerleri giderilmiş olan veriyi, gerçek veriye eşitleyelim \n",
    "veri = veri_gecici.copy()\n",
    "veri.info() #boy ve kilo için kayıp deger sayısına bakalım"
   ]
  },
  {
   "cell_type": "markdown",
   "id": "6ebb2d41",
   "metadata": {},
   "source": [
    "## Yaş Sütunu Kayıp Veri Doldurma\n",
    "  - Tüm verilerin yaş ortalamasına göre dolduralım"
   ]
  },
  {
   "cell_type": "code",
   "execution_count": 35,
   "id": "5c413247",
   "metadata": {},
   "outputs": [
    {
     "name": "stdout",
     "output_type": "stream",
     "text": [
      "Yaş Ortalaması : 25.56\n",
      "<class 'pandas.core.frame.DataFrame'>\n",
      "RangeIndex: 271116 entries, 0 to 271115\n",
      "Data columns (total 13 columns):\n",
      " #   Column    Non-Null Count   Dtype  \n",
      "---  ------    --------------   -----  \n",
      " 0   isim      271116 non-null  object \n",
      " 1   cinsiyet  271116 non-null  object \n",
      " 2   yas       271116 non-null  float64\n",
      " 3   boy       271116 non-null  float64\n",
      " 4   kilo      271116 non-null  float64\n",
      " 5   takım     271116 non-null  object \n",
      " 6   uok       271116 non-null  object \n",
      " 7   yıl       271116 non-null  int64  \n",
      " 8   sezon     271116 non-null  object \n",
      " 9   sehir     271116 non-null  object \n",
      " 10  spor      271116 non-null  object \n",
      " 11  etkinlik  271116 non-null  object \n",
      " 12  madalya   39783 non-null   object \n",
      "dtypes: float64(3), int64(1), object(9)\n",
      "memory usage: 26.9+ MB\n"
     ]
    }
   ],
   "source": [
    "# yas degişkeninde tanımlı olmayan degerleri bulalım\n",
    "\n",
    "yas_ortalamasi = np.round(np.mean(veri.yas), 2)\n",
    "print( \"Yaş Ortalaması : {}\" .format(yas_ortalamasi))\n",
    "veri[\"yas\"] = veri[\"yas\"].fillna(yas_ortalamasi)\n",
    "veri.info()"
   ]
  },
  {
   "cell_type": "markdown",
   "id": "0864ae49",
   "metadata": {},
   "source": [
    "## Madalya Alamayanlar Sporcuları Çıkaralım"
   ]
  },
  {
   "cell_type": "code",
   "execution_count": 37,
   "id": "0a94fe87",
   "metadata": {},
   "outputs": [
    {
     "data": {
      "text/plain": [
       "231333"
      ]
     },
     "execution_count": 37,
     "metadata": {},
     "output_type": "execute_result"
    }
   ],
   "source": [
    "madalya_degiskeni = veri[\"madalya\"]\n",
    "pd.isnull(madalya_degiskeni).sum()"
   ]
  },
  {
   "cell_type": "code",
   "execution_count": 39,
   "id": "c698c995",
   "metadata": {},
   "outputs": [],
   "source": [
    "madalya_degiskeni_filtresi = ~pd.isnull(madalya_degiskeni)"
   ]
  },
  {
   "cell_type": "code",
   "execution_count": 40,
   "id": "d012d524",
   "metadata": {},
   "outputs": [
    {
     "data": {
      "text/html": [
       "<div>\n",
       "<style scoped>\n",
       "    .dataframe tbody tr th:only-of-type {\n",
       "        vertical-align: middle;\n",
       "    }\n",
       "\n",
       "    .dataframe tbody tr th {\n",
       "        vertical-align: top;\n",
       "    }\n",
       "\n",
       "    .dataframe thead th {\n",
       "        text-align: right;\n",
       "    }\n",
       "</style>\n",
       "<table border=\"1\" class=\"dataframe\">\n",
       "  <thead>\n",
       "    <tr style=\"text-align: right;\">\n",
       "      <th></th>\n",
       "      <th>isim</th>\n",
       "      <th>cinsiyet</th>\n",
       "      <th>yas</th>\n",
       "      <th>boy</th>\n",
       "      <th>kilo</th>\n",
       "      <th>takım</th>\n",
       "      <th>uok</th>\n",
       "      <th>yıl</th>\n",
       "      <th>sezon</th>\n",
       "      <th>sehir</th>\n",
       "      <th>spor</th>\n",
       "      <th>etkinlik</th>\n",
       "      <th>madalya</th>\n",
       "    </tr>\n",
       "  </thead>\n",
       "  <tbody>\n",
       "    <tr>\n",
       "      <th>3</th>\n",
       "      <td>Edgar Lindenau Aabye</td>\n",
       "      <td>Gender</td>\n",
       "      <td>34.0</td>\n",
       "      <td>182.48</td>\n",
       "      <td>95.62</td>\n",
       "      <td>Denmark/Sweden</td>\n",
       "      <td>DEN</td>\n",
       "      <td>1900</td>\n",
       "      <td>Summer</td>\n",
       "      <td>Paris</td>\n",
       "      <td>Tug-Of-War</td>\n",
       "      <td>Tug-Of-War Men's Tug-Of-War</td>\n",
       "      <td>Gold</td>\n",
       "    </tr>\n",
       "    <tr>\n",
       "      <th>37</th>\n",
       "      <td>Arvo Ossian Aaltonen</td>\n",
       "      <td>Gender</td>\n",
       "      <td>30.0</td>\n",
       "      <td>182.01</td>\n",
       "      <td>76.69</td>\n",
       "      <td>Finland</td>\n",
       "      <td>FIN</td>\n",
       "      <td>1920</td>\n",
       "      <td>Summer</td>\n",
       "      <td>Antwerpen</td>\n",
       "      <td>Swimming</td>\n",
       "      <td>Swimming Men's 200 metres Breaststroke</td>\n",
       "      <td>Bronze</td>\n",
       "    </tr>\n",
       "    <tr>\n",
       "      <th>38</th>\n",
       "      <td>Arvo Ossian Aaltonen</td>\n",
       "      <td>Gender</td>\n",
       "      <td>30.0</td>\n",
       "      <td>177.00</td>\n",
       "      <td>75.00</td>\n",
       "      <td>Finland</td>\n",
       "      <td>FIN</td>\n",
       "      <td>1920</td>\n",
       "      <td>Summer</td>\n",
       "      <td>Antwerpen</td>\n",
       "      <td>Swimming</td>\n",
       "      <td>Swimming Men's 400 metres Breaststroke</td>\n",
       "      <td>Bronze</td>\n",
       "    </tr>\n",
       "    <tr>\n",
       "      <th>40</th>\n",
       "      <td>Juhamatti Tapio Aaltonen</td>\n",
       "      <td>Gender</td>\n",
       "      <td>28.0</td>\n",
       "      <td>184.00</td>\n",
       "      <td>85.00</td>\n",
       "      <td>Finland</td>\n",
       "      <td>FIN</td>\n",
       "      <td>2014</td>\n",
       "      <td>Winter</td>\n",
       "      <td>Sochi</td>\n",
       "      <td>Ice Hockey</td>\n",
       "      <td>Ice Hockey Men's Ice Hockey</td>\n",
       "      <td>Bronze</td>\n",
       "    </tr>\n",
       "    <tr>\n",
       "      <th>41</th>\n",
       "      <td>Paavo Johannes Aaltonen</td>\n",
       "      <td>Gender</td>\n",
       "      <td>28.0</td>\n",
       "      <td>175.00</td>\n",
       "      <td>64.00</td>\n",
       "      <td>Finland</td>\n",
       "      <td>FIN</td>\n",
       "      <td>1948</td>\n",
       "      <td>Summer</td>\n",
       "      <td>London</td>\n",
       "      <td>Gymnastics</td>\n",
       "      <td>Gymnastics Men's Individual All-Around</td>\n",
       "      <td>Bronze</td>\n",
       "    </tr>\n",
       "  </tbody>\n",
       "</table>\n",
       "</div>"
      ],
      "text/plain": [
       "                        isim cinsiyet   yas     boy   kilo           takım  \\\n",
       "3       Edgar Lindenau Aabye   Gender  34.0  182.48  95.62  Denmark/Sweden   \n",
       "37      Arvo Ossian Aaltonen   Gender  30.0  182.01  76.69         Finland   \n",
       "38      Arvo Ossian Aaltonen   Gender  30.0  177.00  75.00         Finland   \n",
       "40  Juhamatti Tapio Aaltonen   Gender  28.0  184.00  85.00         Finland   \n",
       "41   Paavo Johannes Aaltonen   Gender  28.0  175.00  64.00         Finland   \n",
       "\n",
       "    uok   yıl   sezon      sehir        spor  \\\n",
       "3   DEN  1900  Summer      Paris  Tug-Of-War   \n",
       "37  FIN  1920  Summer  Antwerpen    Swimming   \n",
       "38  FIN  1920  Summer  Antwerpen    Swimming   \n",
       "40  FIN  2014  Winter      Sochi  Ice Hockey   \n",
       "41  FIN  1948  Summer     London  Gymnastics   \n",
       "\n",
       "                                  etkinlik madalya  \n",
       "3              Tug-Of-War Men's Tug-Of-War    Gold  \n",
       "37  Swimming Men's 200 metres Breaststroke  Bronze  \n",
       "38  Swimming Men's 400 metres Breaststroke  Bronze  \n",
       "40             Ice Hockey Men's Ice Hockey  Bronze  \n",
       "41  Gymnastics Men's Individual All-Around  Bronze  "
      ]
     },
     "execution_count": 40,
     "metadata": {},
     "output_type": "execute_result"
    }
   ],
   "source": [
    "veri = veri[madalya_degiskeni_filtresi]\n",
    "veri.head()"
   ]
  },
  {
   "cell_type": "code",
   "execution_count": 41,
   "id": "10a080da",
   "metadata": {},
   "outputs": [
    {
     "name": "stdout",
     "output_type": "stream",
     "text": [
      "<class 'pandas.core.frame.DataFrame'>\n",
      "Int64Index: 39783 entries, 3 to 271103\n",
      "Data columns (total 13 columns):\n",
      " #   Column    Non-Null Count  Dtype  \n",
      "---  ------    --------------  -----  \n",
      " 0   isim      39783 non-null  object \n",
      " 1   cinsiyet  39783 non-null  object \n",
      " 2   yas       39783 non-null  float64\n",
      " 3   boy       39783 non-null  float64\n",
      " 4   kilo      39783 non-null  float64\n",
      " 5   takım     39783 non-null  object \n",
      " 6   uok       39783 non-null  object \n",
      " 7   yıl       39783 non-null  int64  \n",
      " 8   sezon     39783 non-null  object \n",
      " 9   sehir     39783 non-null  object \n",
      " 10  spor      39783 non-null  object \n",
      " 11  etkinlik  39783 non-null  object \n",
      " 12  madalya   39783 non-null  object \n",
      "dtypes: float64(3), int64(1), object(9)\n",
      "memory usage: 4.2+ MB\n"
     ]
    }
   ],
   "source": [
    "veri.info()"
   ]
  },
  {
   "cell_type": "code",
   "execution_count": 43,
   "id": "74b1ff60",
   "metadata": {},
   "outputs": [],
   "source": [
    "# sonradan kullanabilmek içic veriyi kaydedelim\n",
    "veri.to_csv(\"olimpiyatlar_temizlenmis.csv\", index = False)"
   ]
  },
  {
   "cell_type": "markdown",
   "id": "cf860a77",
   "metadata": {},
   "source": [
    "## Tek Değişkenli Veri Analizi\n",
    "    Sayısal veriler \n",
    "     1-yas\n",
    "     2-boy\n",
    "     3-kilo\n",
    "     4-yil\n"
   ]
  },
  {
   "cell_type": "code",
   "execution_count": 46,
   "id": "f476fc50",
   "metadata": {},
   "outputs": [],
   "source": [
    "# histogram grafiğini çizeceğimiz fonk.\n",
    "\n",
    "def plotHistogram(degisken):\n",
    "    \n",
    "    \"\"\"\n",
    "        Girdi: Değişken/ sütun ismi\n",
    "        Çıktı: İlgili değiskenin histogram\n",
    "    \"\"\"\n",
    "    plt.figure()\n",
    "    plt.hist(veri[degisken], bins = 85, color = \"red\")\n",
    "    plt.xlabel(degisken)\n",
    "    plt.ylabel(\"Frekans\")\n",
    "    plt.title(\"Veri Sıklığı - {}\" .format(degisken))\n",
    "    plt.show()"
   ]
  },
  {
   "cell_type": "code",
   "execution_count": 48,
   "id": "659d77bd",
   "metadata": {},
   "outputs": [
    {
     "data": {
      "image/png": "[encoded data removed]",
      "text/plain": [
       "<Figure size 432x288 with 1 Axes>"
      ]
     },
     "metadata": {
      "needs_background": "light"
     },
     "output_type": "display_data"
    }
   ],
   "source": [
    "plotHistogram(\"yas\")"
   ]
  },
  {
   "cell_type": "code",
   "execution_count": 49,
   "id": "381089da",
   "metadata": {},
   "outputs": [
    {
     "data": {
      "image/png": "[encoded data removed]",
      "text/plain": [
       "<Figure size 432x288 with 1 Axes>"
      ]
     },
     "metadata": {
      "needs_background": "light"
     },
     "output_type": "display_data"
    },
    {
     "data": {
      "image/png": "[encoded data removed]",
      "text/plain": [
       "<Figure size 432x288 with 1 Axes>"
      ]
     },
     "metadata": {
      "needs_background": "light"
     },
     "output_type": "display_data"
    },
    {
     "data": {
      "image/png": "[encoded data removed]",
      "text/plain": [
       "<Figure size 432x288 with 1 Axes>"
      ]
     },
     "metadata": {
      "needs_background": "light"
     },
     "output_type": "display_data"
    },
    {
     "data": {
      "image/png": "[encoded data removed]",
      "text/plain": [
       "<Figure size 432x288 with 1 Axes>"
      ]
     },
     "metadata": {
      "needs_background": "light"
     },
     "output_type": "display_data"
    }
   ],
   "source": [
    "# tüm sayisal değişkenler için histogram çizdirelim\n",
    "sayisal_degiskenler = [\"yas\", \"boy\", \"kilo\", \"yıl\"]\n",
    "\n",
    "for i in sayisal_degiskenler:\n",
    "    plotHistogram(i)\n",
    "    \n"
   ]
  },
  {
   "cell_type": "code",
   "execution_count": 50,
   "id": "048e619b",
   "metadata": {},
   "outputs": [
    {
     "data": {
      "text/html": [
       "<div>\n",
       "<style scoped>\n",
       "    .dataframe tbody tr th:only-of-type {\n",
       "        vertical-align: middle;\n",
       "    }\n",
       "\n",
       "    .dataframe tbody tr th {\n",
       "        vertical-align: top;\n",
       "    }\n",
       "\n",
       "    .dataframe thead th {\n",
       "        text-align: right;\n",
       "    }\n",
       "</style>\n",
       "<table border=\"1\" class=\"dataframe\">\n",
       "  <thead>\n",
       "    <tr style=\"text-align: right;\">\n",
       "      <th></th>\n",
       "      <th>yas</th>\n",
       "      <th>boy</th>\n",
       "      <th>kilo</th>\n",
       "      <th>yıl</th>\n",
       "    </tr>\n",
       "  </thead>\n",
       "  <tbody>\n",
       "    <tr>\n",
       "      <th>count</th>\n",
       "      <td>39783.000000</td>\n",
       "      <td>39783.000000</td>\n",
       "      <td>39783.000000</td>\n",
       "      <td>39783.000000</td>\n",
       "    </tr>\n",
       "    <tr>\n",
       "      <th>mean</th>\n",
       "      <td>25.918456</td>\n",
       "      <td>177.336690</td>\n",
       "      <td>73.738320</td>\n",
       "      <td>1973.943845</td>\n",
       "    </tr>\n",
       "    <tr>\n",
       "      <th>std</th>\n",
       "      <td>5.859569</td>\n",
       "      <td>10.170124</td>\n",
       "      <td>13.979041</td>\n",
       "      <td>33.822857</td>\n",
       "    </tr>\n",
       "    <tr>\n",
       "      <th>min</th>\n",
       "      <td>10.000000</td>\n",
       "      <td>136.000000</td>\n",
       "      <td>28.000000</td>\n",
       "      <td>1896.000000</td>\n",
       "    </tr>\n",
       "    <tr>\n",
       "      <th>25%</th>\n",
       "      <td>22.000000</td>\n",
       "      <td>170.000000</td>\n",
       "      <td>64.000000</td>\n",
       "      <td>1952.000000</td>\n",
       "    </tr>\n",
       "    <tr>\n",
       "      <th>50%</th>\n",
       "      <td>25.000000</td>\n",
       "      <td>177.480000</td>\n",
       "      <td>73.000000</td>\n",
       "      <td>1984.000000</td>\n",
       "    </tr>\n",
       "    <tr>\n",
       "      <th>75%</th>\n",
       "      <td>29.000000</td>\n",
       "      <td>184.000000</td>\n",
       "      <td>82.000000</td>\n",
       "      <td>2002.000000</td>\n",
       "    </tr>\n",
       "    <tr>\n",
       "      <th>max</th>\n",
       "      <td>73.000000</td>\n",
       "      <td>223.000000</td>\n",
       "      <td>182.000000</td>\n",
       "      <td>2016.000000</td>\n",
       "    </tr>\n",
       "  </tbody>\n",
       "</table>\n",
       "</div>"
      ],
      "text/plain": [
       "                yas           boy          kilo           yıl\n",
       "count  39783.000000  39783.000000  39783.000000  39783.000000\n",
       "mean      25.918456    177.336690     73.738320   1973.943845\n",
       "std        5.859569     10.170124     13.979041     33.822857\n",
       "min       10.000000    136.000000     28.000000   1896.000000\n",
       "25%       22.000000    170.000000     64.000000   1952.000000\n",
       "50%       25.000000    177.480000     73.000000   1984.000000\n",
       "75%       29.000000    184.000000     82.000000   2002.000000\n",
       "max       73.000000    223.000000    182.000000   2016.000000"
      ]
     },
     "execution_count": 50,
     "metadata": {},
     "output_type": "execute_result"
    }
   ],
   "source": [
    "veri.describe()"
   ]
  },
  {
   "cell_type": "code",
   "execution_count": null,
   "id": "d45e9d0d",
   "metadata": {},
   "outputs": [],
   "source": []
  }
 ],
 "metadata": {
  "kernelspec": {
   "display_name": "Python 3",
   "language": "python",
   "name": "python3"
  },
  "language_info": {
   "codemirror_mode": {
    "name": "ipython",
    "version": 3
   },
   "file_extension": ".py",
   "mimetype": "text/x-python",
   "name": "python",
   "nbconvert_exporter": "python",
   "pygments_lexer": "ipython3",
   "version": "3.8.5"
  }
 },
 "nbformat": 4,
 "nbformat_minor": 5
}
